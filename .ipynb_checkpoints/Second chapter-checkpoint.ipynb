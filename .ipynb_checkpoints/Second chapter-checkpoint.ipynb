{
 "cells": [
  {
   "cell_type": "code",
   "execution_count": 229,
   "metadata": {},
   "outputs": [],
   "source": [
    "import numpy as np\n",
    "np.random.seed(0)"
   ]
  },
  {
   "cell_type": "code",
   "execution_count": 230,
   "metadata": {},
   "outputs": [
    {
     "data": {
      "text/plain": [
       "array([0.16666667, 1.        , 0.25      , 0.25      , 0.125     ,\n",
       "       0.25      , 0.16666667, 0.33333333, 0.2       , 0.125     ])"
      ]
     },
     "execution_count": 230,
     "metadata": {},
     "output_type": "execute_result"
    }
   ],
   "source": [
    "\n",
    "\n",
    "def func(val):\n",
    "    out = np.empty(len(val))\n",
    "    for i in range(len(val)):\n",
    "        out[i] = 1. / val[i]\n",
    "    return out\n",
    "arr = np.random.randint(1, 10, 10, np.int64)\n",
    "func(arr)"
   ]
  },
  {
   "cell_type": "code",
   "execution_count": 231,
   "metadata": {},
   "outputs": [
    {
     "name": "stdout",
     "output_type": "stream",
     "text": [
      "221 µs ± 1.58 µs per loop (mean ± std. dev. of 7 runs, 1000 loops each)\n",
      "1.34 µs ± 9.94 ns per loop (mean ± std. dev. of 7 runs, 1000000 loops each)\n"
     ]
    }
   ],
   "source": [
    "big = np.random.randint(1,100,100)\n",
    "%timeit func(big)\n",
    "%timeit 1. / big"
   ]
  },
  {
   "cell_type": "code",
   "execution_count": 232,
   "metadata": {},
   "outputs": [
    {
     "name": "stdout",
     "output_type": "stream",
     "text": [
      "[0 1 2 3 4]\n",
      "[1 2 3 4 5]\n",
      "[0.         0.5        0.66666667 0.75       0.8       ]\n"
     ]
    }
   ],
   "source": [
    "a = np.arange(5)\n",
    "print(a)\n",
    "b = np.arange(1,6)\n",
    "print(b)\n",
    "print(a / b)"
   ]
  },
  {
   "cell_type": "code",
   "execution_count": 233,
   "metadata": {},
   "outputs": [
    {
     "data": {
      "text/plain": [
       "array([[  1,   2,   4],\n",
       "       [  8,  16,  32],\n",
       "       [ 64, 128, 256]], dtype=int32)"
      ]
     },
     "execution_count": 233,
     "metadata": {},
     "output_type": "execute_result"
    }
   ],
   "source": [
    "2 ** np.arange(9).reshape([3,3])"
   ]
  },
  {
   "cell_type": "code",
   "execution_count": 234,
   "metadata": {},
   "outputs": [
    {
     "data": {
      "text/plain": [
       "array([ 1,  2,  3,  4,  5,  6,  7,  8,  9, 10, 11, 12, 13, 14, 15])"
      ]
     },
     "execution_count": 234,
     "metadata": {},
     "output_type": "execute_result"
    }
   ],
   "source": [
    "test_arr = np.arange(1,16)\n",
    "test_arr"
   ]
  },
  {
   "cell_type": "code",
   "execution_count": 235,
   "metadata": {},
   "outputs": [
    {
     "data": {
      "text/plain": [
       "array([ 3,  6,  9, 12, 15, 18, 21, 24, 27, 30, 33, 36, 39, 42, 45])"
      ]
     },
     "execution_count": 235,
     "metadata": {},
     "output_type": "execute_result"
    }
   ],
   "source": [
    "abs(-test_arr[:, np.newaxis][2] * test_arr)"
   ]
  },
  {
   "cell_type": "code",
   "execution_count": 236,
   "metadata": {},
   "outputs": [
    {
     "data": {
      "text/plain": [
       "array([ 1,  3,  5,  7,  9, 11, 13, 15, 17, 19, 21, 23, 25, 27, 29])"
      ]
     },
     "execution_count": 236,
     "metadata": {},
     "output_type": "execute_result"
    }
   ],
   "source": [
    "(test_arr * 2) - 1"
   ]
  },
  {
   "cell_type": "code",
   "execution_count": 237,
   "metadata": {},
   "outputs": [
    {
     "name": "stdout",
     "output_type": "stream",
     "text": [
      "[0.         1.57079633 3.14159265]\n"
     ]
    }
   ],
   "source": [
    "t = np.linspace(0, np.pi, 3)\n",
    "print(t)"
   ]
  },
  {
   "cell_type": "code",
   "execution_count": 238,
   "metadata": {},
   "outputs": [
    {
     "data": {
      "text/plain": [
       "array([0.0000000e+00, 1.0000000e+00, 1.2246468e-16])"
      ]
     },
     "execution_count": 238,
     "metadata": {},
     "output_type": "execute_result"
    }
   ],
   "source": [
    "np.sin(t)"
   ]
  },
  {
   "cell_type": "markdown",
   "metadata": {},
   "source": [
    "### СОХРАНЯЕМ ПАМЯТЬ \n",
    "#### в случае бальших массивов"
   ]
  },
  {
   "cell_type": "code",
   "execution_count": 239,
   "metadata": {
    "scrolled": true
   },
   "outputs": [],
   "source": [
    "y = np.zeros(10, dtype=np.int32)\n",
    "x = np.arange(5)"
   ]
  },
  {
   "cell_type": "code",
   "execution_count": 240,
   "metadata": {},
   "outputs": [
    {
     "name": "stdout",
     "output_type": "stream",
     "text": [
      "[1 1 1]\n"
     ]
    }
   ],
   "source": [
    "a = [1, 2, 3]\n",
    "b = [2, 3, 4]\n",
    "print(np.subtract(b,a))"
   ]
  },
  {
   "cell_type": "markdown",
   "metadata": {},
   "source": [
    "#### Это хуже"
   ]
  },
  {
   "cell_type": "code",
   "execution_count": 241,
   "metadata": {},
   "outputs": [
    {
     "name": "stdout",
     "output_type": "stream",
     "text": [
      "[ 1  0  2  0  4  0  8  0 16  0]\n"
     ]
    }
   ],
   "source": [
    "bad_y = y\n",
    "bad_y[::2] = 2**x\n",
    "print(bad_y)"
   ]
  },
  {
   "cell_type": "markdown",
   "metadata": {},
   "source": [
    "#### Чем это"
   ]
  },
  {
   "cell_type": "code",
   "execution_count": 242,
   "metadata": {},
   "outputs": [
    {
     "name": "stdout",
     "output_type": "stream",
     "text": [
      "[ 1  0  2  0  4  0  8  0 16  0]\n"
     ]
    }
   ],
   "source": [
    "good_y = y\n",
    "np.power(2, x, out = good_y[::2])\n",
    "print(good_y)"
   ]
  },
  {
   "cell_type": "code",
   "execution_count": 243,
   "metadata": {},
   "outputs": [
    {
     "name": "stdout",
     "output_type": "stream",
     "text": [
      "X:  [1 2 3 4 5 6 7 8 9]\n",
      "Y:  [ 1  0  2  0  4  0  8  0 16  0]\n",
      "Sum Y:  31\n",
      "Multiply X:  362880\n"
     ]
    }
   ],
   "source": [
    "x = np.arange(1,10, dtype=np.uint64)\n",
    "print(\"X: \",x)\n",
    "print(\"Y: \", y)\n",
    "print(\"Sum Y: \", np.add.reduce(y))\n",
    "print(\"Multiply X: \", np.multiply.reduce(x))"
   ]
  },
  {
   "cell_type": "code",
   "execution_count": 244,
   "metadata": {},
   "outputs": [
    {
     "name": "stdout",
     "output_type": "stream",
     "text": [
      "Sum: \n",
      "45\n",
      "[ 1  3  6 10 15 21 28 36 45]\n",
      "Multiply: \n",
      "362880\n",
      "[     1      2      6     24    120    720   5040  40320 362880]\n"
     ]
    }
   ],
   "source": [
    "print(\"Sum: \")\n",
    "print(np.add.reduce(x))\n",
    "print(np.add.accumulate(x))\n",
    "print(\"Multiply: \")\n",
    "print(np.multiply.reduce(x))\n",
    "print(np.multiply.accumulate(x))"
   ]
  },
  {
   "cell_type": "code",
   "execution_count": 245,
   "metadata": {},
   "outputs": [],
   "source": [
    "def fact(num):\n",
    "    res = [1, 1]\n",
    "    for i in range(2,num):\n",
    "        res.append(np.add.reduce(res[i - 2: i]))\n",
    "    return res"
   ]
  },
  {
   "cell_type": "code",
   "execution_count": 246,
   "metadata": {},
   "outputs": [
    {
     "data": {
      "text/plain": [
       "[1,\n",
       " 1,\n",
       " 2,\n",
       " 3,\n",
       " 5,\n",
       " 8,\n",
       " 13,\n",
       " 21,\n",
       " 34,\n",
       " 55,\n",
       " 89,\n",
       " 144,\n",
       " 233,\n",
       " 377,\n",
       " 610,\n",
       " 987,\n",
       " 1597,\n",
       " 2584,\n",
       " 4181,\n",
       " 6765]"
      ]
     },
     "execution_count": 246,
     "metadata": {},
     "output_type": "execute_result"
    }
   ],
   "source": [
    "fact(20)"
   ]
  },
  {
   "cell_type": "code",
   "execution_count": 247,
   "metadata": {},
   "outputs": [
    {
     "data": {
      "text/plain": [
       "2432902008176640000"
      ]
     },
     "execution_count": 247,
     "metadata": {},
     "output_type": "execute_result"
    }
   ],
   "source": [
    "np.multiply.reduce(np.arange(1,21, dtype = np.uint64))"
   ]
  },
  {
   "cell_type": "code",
   "execution_count": 248,
   "metadata": {},
   "outputs": [
    {
     "data": {
      "text/plain": [
       "array([   1,   -1,   -4,   -8,  -13,  -19,  -26,  -34,  -43,  -53,  -64,\n",
       "        -76,  -89, -103, -118, -134, -151, -169, -188], dtype=int32)"
      ]
     },
     "execution_count": 248,
     "metadata": {},
     "output_type": "execute_result"
    }
   ],
   "source": [
    "np.subtract.accumulate(np.arange(1,20))"
   ]
  },
  {
   "cell_type": "code",
   "execution_count": 249,
   "metadata": {},
   "outputs": [
    {
     "name": "stdout",
     "output_type": "stream",
     "text": [
      "(5, 5)\n"
     ]
    },
    {
     "data": {
      "text/plain": [
       "array([5, 5, 5, 5, 5])"
      ]
     },
     "execution_count": 249,
     "metadata": {},
     "output_type": "execute_result"
    }
   ],
   "source": [
    "x = np.ones((5,5), dtype=np.int32)\n",
    "print(x.shape)\n",
    "np.add.reduce(x)"
   ]
  },
  {
   "cell_type": "code",
   "execution_count": 250,
   "metadata": {},
   "outputs": [],
   "source": [
    "a = np.arange(3)\n",
    "M = np.ones((2,3))"
   ]
  },
  {
   "cell_type": "code",
   "execution_count": 251,
   "metadata": {
    "scrolled": false
   },
   "outputs": [
    {
     "data": {
      "text/plain": [
       "array([[1., 2., 3.],\n",
       "       [1., 2., 3.]])"
      ]
     },
     "execution_count": 251,
     "metadata": {},
     "output_type": "execute_result"
    }
   ],
   "source": [
    "M + a "
   ]
  },
  {
   "cell_type": "markdown",
   "metadata": {},
   "source": [
    "### Приближено к 0 (что занчит мы центрозовали массив)"
   ]
  },
  {
   "cell_type": "code",
   "execution_count": 252,
   "metadata": {},
   "outputs": [
    {
     "name": "stdout",
     "output_type": "stream",
     "text": [
      "0.462304008651507\n",
      "1.1102230246251566e-17\n"
     ]
    }
   ],
   "source": [
    "rand_x = np.random.random(10)\n",
    "Xmean = rand_x.mean(0)\n",
    "print(Xmean)\n",
    "rand_x -= Xmean\n",
    "print(rand_x.mean(0))"
   ]
  },
  {
   "cell_type": "code",
   "execution_count": 253,
   "metadata": {},
   "outputs": [],
   "source": [
    "x = np.linspace(0,5,50)\n",
    "y = np.linspace(0,5,50)[:, np.newaxis]\n",
    "z = np.sin(x) ** 10 + np.cos(10 + y * x) * np.cos(x)"
   ]
  },
  {
   "cell_type": "code",
   "execution_count": 254,
   "metadata": {},
   "outputs": [],
   "source": [
    "import matplotlib.pyplot as plt"
   ]
  },
  {
   "cell_type": "code",
   "execution_count": 255,
   "metadata": {},
   "outputs": [
    {
     "data": {
      "image/png": "[encoded data removed]",
      "text/plain": [
       "<Figure size 432x288 with 2 Axes>"
      ]
     },
     "metadata": {},
     "output_type": "display_data"
    }
   ],
   "source": [
    "plt.imshow(z, origin=\"lower\", extent=[0,5,0,5], cmap=\"viridis\");\n",
    "plt.colorbar();"
   ]
  },
  {
   "cell_type": "code",
   "execution_count": 256,
   "metadata": {},
   "outputs": [
    {
     "data": {
      "text/plain": [
       "(50, 50)"
      ]
     },
     "execution_count": 256,
     "metadata": {},
     "output_type": "execute_result"
    }
   ],
   "source": [
    "np.shape(z)"
   ]
  },
  {
   "cell_type": "code",
   "execution_count": 257,
   "metadata": {},
   "outputs": [
    {
     "name": "stdout",
     "output_type": "stream",
     "text": [
      "[[ 0  1  2  3  4  5  6  7  8  9]\n",
      " [10 11 12 13 14 15 16 17 18 19]]\n",
      "11\n",
      "[10  1]\n"
     ]
    }
   ],
   "source": [
    "x = np.arange(20)\n",
    "x = np.reshape(x, (2, 10))\n",
    "print(x)\n",
    "x_less = x < 11\n",
    "print(np.count_nonzero(x_less))\n",
    "print(np.sum(x_less, axis = 1))\n"
   ]
  },
  {
   "cell_type": "code",
   "execution_count": 258,
   "metadata": {},
   "outputs": [
    {
     "data": {
      "text/plain": [
       "True"
      ]
     },
     "execution_count": 258,
     "metadata": {},
     "output_type": "execute_result"
    }
   ],
   "source": [
    "np.any(x == 1)"
   ]
  },
  {
   "cell_type": "code",
   "execution_count": 259,
   "metadata": {
    "scrolled": true
   },
   "outputs": [
    {
     "data": {
      "text/plain": [
       "False"
      ]
     },
     "execution_count": 259,
     "metadata": {},
     "output_type": "execute_result"
    }
   ],
   "source": [
    "np.any(x < 0)"
   ]
  },
  {
   "cell_type": "markdown",
   "metadata": {},
   "source": [
    "## Булевый массив как маска"
   ]
  },
  {
   "cell_type": "code",
   "execution_count": 260,
   "metadata": {},
   "outputs": [
    {
     "data": {
      "text/plain": [
       "array([ 6,  7,  8,  9, 10])"
      ]
     },
     "execution_count": 260,
     "metadata": {},
     "output_type": "execute_result"
    }
   ],
   "source": [
    "x[(x > 5) & (x <= 10)]"
   ]
  },
  {
   "cell_type": "code",
   "execution_count": 261,
   "metadata": {},
   "outputs": [],
   "source": [
    "summer = (np.arange(365)-172 < 90) & (np.arange(365)-172 > 0)"
   ]
  },
  {
   "cell_type": "code",
   "execution_count": 262,
   "metadata": {},
   "outputs": [
    {
     "data": {
      "text/plain": [
       "array([173, 174, 175, 176, 177, 178, 179, 180, 181, 182, 183, 184, 185,\n",
       "       186, 187, 188, 189, 190, 191, 192, 193, 194, 195, 196, 197, 198,\n",
       "       199, 200, 201, 202, 203, 204, 205, 206, 207, 208, 209, 210, 211,\n",
       "       212, 213, 214, 215, 216, 217, 218, 219, 220, 221, 222, 223, 224,\n",
       "       225, 226, 227, 228, 229, 230, 231, 232, 233, 234, 235, 236, 237,\n",
       "       238, 239, 240, 241, 242, 243, 244, 245, 246, 247, 248, 249, 250,\n",
       "       251, 252, 253, 254, 255, 256, 257, 258, 259, 260, 261])"
      ]
     },
     "execution_count": 262,
     "metadata": {},
     "output_type": "execute_result"
    }
   ],
   "source": [
    "np.arange(365)[summer]"
   ]
  },
  {
   "cell_type": "markdown",
   "metadata": {},
   "source": [
    "## Прихотливая индексация "
   ]
  },
  {
   "cell_type": "code",
   "execution_count": 263,
   "metadata": {},
   "outputs": [
    {
     "name": "stdout",
     "output_type": "stream",
     "text": [
      "[ 98  62 163 123 195  82 174 148  50 155  14  41  58 193  36  10  86  43\n",
      " 104  11]\n"
     ]
    }
   ],
   "source": [
    "arr = np.random.randint(200, size=20)\n",
    "print(arr)"
   ]
  },
  {
   "cell_type": "code",
   "execution_count": 264,
   "metadata": {},
   "outputs": [
    {
     "name": "stdout",
     "output_type": "stream",
     "text": [
      "[[123  14]\n",
      " [ 41  62]]\n"
     ]
    }
   ],
   "source": [
    "ind = np.array([\n",
    "    [3, 10],\n",
    "    [11, 1]\n",
    "])\n",
    "print(arr[ind])"
   ]
  },
  {
   "cell_type": "code",
   "execution_count": 265,
   "metadata": {},
   "outputs": [
    {
     "data": {
      "text/plain": [
       "array([[ 1,  2,  3,  4],\n",
       "       [ 5,  6,  7,  8],\n",
       "       [ 9, 10, 11, 12],\n",
       "       [13, 14, 15, 16]])"
      ]
     },
     "execution_count": 265,
     "metadata": {},
     "output_type": "execute_result"
    }
   ],
   "source": [
    "arr2 = np.arange(1, 17).reshape((4, 4))\n",
    "arr2"
   ]
  },
  {
   "cell_type": "code",
   "execution_count": 266,
   "metadata": {},
   "outputs": [
    {
     "data": {
      "text/plain": [
       "array([ 4, 10])"
      ]
     },
     "execution_count": 266,
     "metadata": {},
     "output_type": "execute_result"
    }
   ],
   "source": [
    "row = np.array([0,2])\n",
    "col = np.array([3,1])\n",
    "arr2[row,col]"
   ]
  },
  {
   "cell_type": "markdown",
   "metadata": {},
   "source": [
    "### Транслирование\n",
    "#### Короче, тут массив row будет равен [[0],[2]] и короче фильтр [3,1] применится к каждой и сток 0 и 2!"
   ]
  },
  {
   "cell_type": "code",
   "execution_count": 267,
   "metadata": {
    "scrolled": true
   },
   "outputs": [
    {
     "name": "stdout",
     "output_type": "stream",
     "text": [
      "[[ 4  2]\n",
      " [12 10]]\n",
      "------\n",
      "[10 12]\n",
      "------\n",
      "[[ 6  8]\n",
      " [10 12]]\n"
     ]
    }
   ],
   "source": [
    "print(arr2[row[:, np.newaxis], col])\n",
    "print(\"------\")\n",
    "print(arr2[2,[1,3]])\n",
    "print(\"------\")\n",
    "print(arr2[1:3,[1,3]])"
   ]
  },
  {
   "cell_type": "code",
   "execution_count": 268,
   "metadata": {
    "scrolled": true
   },
   "outputs": [
    {
     "name": "stdout",
     "output_type": "stream",
     "text": [
      "[[ 2  4]\n",
      " [ 6  8]\n",
      " [10 12]\n",
      " [14 16]]\n"
     ]
    }
   ],
   "source": [
    "mask = np.array([0, 1, 0, 1], dtype = np.bool)\n",
    "print(arr2[:,mask])"
   ]
  },
  {
   "cell_type": "markdown",
   "metadata": {},
   "source": [
    "## Почему то не работает  <font color='red'>(потом вернуться)</font> (111 стр.)"
   ]
  },
  {
   "cell_type": "markdown",
   "metadata": {
    "scrolled": true
   },
   "source": [
    "### Код:\n",
    "```python\n",
    "mean = [0, 0]\n",
    "cov = [\n",
    "    [1, 2],\n",
    "    [2, 5]\n",
    "]\n",
    "X = rand.multivariate_normal(mean, cov, 100)\n",
    "```"
   ]
  },
  {
   "cell_type": "markdown",
   "metadata": {},
   "source": [
    "## Конец не рабочей области"
   ]
  },
  {
   "cell_type": "code",
   "execution_count": 269,
   "metadata": {},
   "outputs": [
    {
     "name": "stdout",
     "output_type": "stream",
     "text": [
      "[   0    1    2 9999 9999    5 9999    7    8    9]\n",
      "[     0      1      2 -89989 -89989      5 -89989      7      8      9]\n"
     ]
    }
   ],
   "source": [
    "x = np.arange(10)\n",
    "i = np.array([4,3,6])\n",
    "x[i] = 9999\n",
    "print(x)\n",
    "x[i] -= 99988\n",
    "print(x)"
   ]
  },
  {
   "cell_type": "code",
   "execution_count": 270,
   "metadata": {},
   "outputs": [
    {
     "name": "stdout",
     "output_type": "stream",
     "text": [
      "x = [0. 0. 0. 0. 0. 0.]\n",
      "modified x is: [6. 0. 0. 0. 0. 0.]\n"
     ]
    }
   ],
   "source": [
    "x = np.zeros(6)\n",
    "print(\"x =\", x)\n",
    "x[[0, 0]] = [4, 6]\n",
    "print(\"modified x is:\", x)"
   ]
  },
  {
   "cell_type": "code",
   "execution_count": 271,
   "metadata": {
    "scrolled": true
   },
   "outputs": [
    {
     "name": "stdout",
     "output_type": "stream",
     "text": [
      "modified x is: [6. 0. 1. 1. 1. 0.]\n",
      "correctly modified x: [0. 0. 1. 2. 3. 0.]\n"
     ]
    }
   ],
   "source": [
    "i = [2, 3, 3, 4, 4, 4]\n",
    "x[i] += 1\n",
    "print(\"modified x is:\", x)\n",
    "# Для удволетворяющего результата используем\n",
    "x2 = np.zeros(6)\n",
    "np.add.at(x2, i, 1)\n",
    "print(\"correctly modified x:\", x2)"
   ]
  },
  {
   "cell_type": "code",
   "execution_count": 272,
   "metadata": {
    "scrolled": true
   },
   "outputs": [
    {
     "name": "stdout",
     "output_type": "stream",
     "text": [
      "[ 0.49671415 -0.1382643   0.64768854  1.52302986 -0.23415337 -0.23413696\n",
      "  1.57921282  0.76743473 -0.46947439  0.54256004 -0.46341769 -0.46572975\n",
      "  0.24196227 -1.91328024 -1.72491783 -0.56228753 -1.01283112  0.31424733\n",
      " -0.90802408 -1.4123037   1.46564877 -0.2257763   0.0675282  -1.42474819\n",
      " -0.54438272  0.11092259 -1.15099358  0.37569802 -0.60063869 -0.29169375\n",
      " -0.60170661  1.85227818 -0.01349722 -1.05771093  0.82254491 -1.22084365\n",
      "  0.2088636  -1.95967012 -1.32818605  0.19686124  0.73846658  0.17136828\n",
      " -0.11564828 -0.3011037  -1.47852199 -0.71984421 -0.46063877  1.05712223\n",
      "  0.34361829 -1.76304016  0.32408397 -0.38508228 -0.676922    0.61167629\n",
      "  1.03099952  0.93128012 -0.83921752 -0.30921238  0.33126343  0.97554513\n",
      " -0.47917424 -0.18565898 -1.10633497 -1.19620662  0.81252582  1.35624003\n",
      " -0.07201012  1.0035329   0.36163603 -0.64511975  0.36139561  1.53803657\n",
      " -0.03582604  1.56464366 -2.6197451   0.8219025   0.08704707 -0.29900735\n",
      "  0.09176078 -1.98756891 -0.21967189  0.35711257  1.47789404 -0.51827022\n",
      " -0.8084936  -0.50175704  0.91540212  0.32875111 -0.5297602   0.51326743\n",
      "  0.09707755  0.96864499 -0.70205309 -0.32766215 -0.39210815 -1.46351495\n",
      "  0.29612028  0.26105527  0.00511346 -0.23458713]\n",
      "[11 10 11 13 10 10 13 11  9 11  9  9 10  6  7  9  8 11  8  7 13 10 10  7\n",
      "  9 10  8 11  9  9  9 14 10  8 12  8 10  6  7 10 11 10 10  9  7  9  9 12\n",
      " 11  7 11  9  9 11 12 12  8  9 11 12  9 10  8  8 12 13 10 12 11  9 11 13\n",
      " 10 13  5 12 10  9 10  6 10 11 13  9  8  9 12 11  9 11 10 12  9  9  9  7\n",
      " 11 10 10 10]\n",
      "(20,)\n",
      "(20,)\n"
     ]
    }
   ],
   "source": [
    "np.random.seed(42)\n",
    "x = np.random.randn(100)\n",
    "bins = np.linspace(-5, 5, 20)\n",
    "counts = np.zeros_like(bins)\n",
    "# Ищем интервал для каждого x\n",
    "# команда ищет индексы для каждого элемента, \n",
    "# такие чо если вставить элемент в сортированный массив порядок созраниться\n",
    "i = np.searchsorted(bins, x) # Добавляем 1 к каждому из интервалов\n",
    "np.add.at(counts, i, 1)\n",
    "print(x)\n",
    "print(i)\n",
    "print(np.shape(bins))\n",
    "print(np.shape(counts))"
   ]
  },
  {
   "cell_type": "code",
   "execution_count": 273,
   "metadata": {
    "scrolled": false
   },
   "outputs": [
    {
     "data": {
      "text/plain": [
       "(array([ 0.,  0.,  0.,  0.,  1.,  3.,  7.,  9., 23., 22., 17., 10.,  7.,\n",
       "         1.,  0.,  0.,  0.,  0.,  0.]),\n",
       " array([-5.        , -4.47368421, -3.94736842, -3.42105263, -2.89473684,\n",
       "        -2.36842105, -1.84210526, -1.31578947, -0.78947368, -0.26315789,\n",
       "         0.26315789,  0.78947368,  1.31578947,  1.84210526,  2.36842105,\n",
       "         2.89473684,  3.42105263,  3.94736842,  4.47368421,  5.        ]),\n",
       " <a list of 1 Patch objects>)"
      ]
     },
     "execution_count": 273,
     "metadata": {},
     "output_type": "execute_result"
    },
    {
     "data": {
      "image/png": "[encoded data removed]",
      "text/plain": [
       "<Figure size 432x288 with 1 Axes>"
      ]
     },
     "metadata": {},
     "output_type": "display_data"
    }
   ],
   "source": [
    "import matplotlib.pyplot as plt\n",
    "\n",
    "plt.hist(x, bins, histtype = \"step\")"
   ]
  },
  {
   "cell_type": "code",
   "execution_count": 274,
   "metadata": {},
   "outputs": [
    {
     "name": "stdout",
     "output_type": "stream",
     "text": [
      "[ 0.49671415 -0.1382643   0.64768854  1.52302986 -0.23415337 -0.23413696\n",
      "  1.57921282  0.76743473 -0.46947439  0.54256004 -0.46341769 -0.46572975\n",
      "  0.24196227 -1.91328024 -1.72491783 -0.56228753 -1.01283112  0.31424733\n",
      " -0.90802408 -1.4123037   1.46564877 -0.2257763   0.0675282  -1.42474819\n",
      " -0.54438272  0.11092259 -1.15099358  0.37569802 -0.60063869 -0.29169375\n",
      " -0.60170661  1.85227818 -0.01349722 -1.05771093  0.82254491 -1.22084365\n",
      "  0.2088636  -1.95967012 -1.32818605  0.19686124  0.73846658  0.17136828\n",
      " -0.11564828 -0.3011037  -1.47852199 -0.71984421 -0.46063877  1.05712223\n",
      "  0.34361829 -1.76304016  0.32408397 -0.38508228 -0.676922    0.61167629\n",
      "  1.03099952  0.93128012 -0.83921752 -0.30921238  0.33126343  0.97554513\n",
      " -0.47917424 -0.18565898 -1.10633497 -1.19620662  0.81252582  1.35624003\n",
      " -0.07201012  1.0035329   0.36163603 -0.64511975  0.36139561  1.53803657\n",
      " -0.03582604  1.56464366 -2.6197451   0.8219025   0.08704707 -0.29900735\n",
      "  0.09176078 -1.98756891 -0.21967189  0.35711257  1.47789404 -0.51827022\n",
      " -0.8084936  -0.50175704  0.91540212  0.32875111 -0.5297602   0.51326743\n",
      "  0.09707755  0.96864499 -0.70205309 -0.32766215 -0.39210815 -1.46351495\n",
      "  0.29612028  0.26105527  0.00511346 -0.23458713]\n",
      "[-5.         -4.47368421 -3.94736842 -3.42105263 -2.89473684 -2.36842105\n",
      " -1.84210526 -1.31578947 -0.78947368 -0.26315789  0.26315789  0.78947368\n",
      "  1.31578947  1.84210526  2.36842105  2.89473684  3.42105263  3.94736842\n",
      "  4.47368421  5.        ]\n"
     ]
    }
   ],
   "source": [
    "print(x)\n",
    "print(bins)"
   ]
  },
  {
   "cell_type": "code",
   "execution_count": 275,
   "metadata": {},
   "outputs": [
    {
     "name": "stdout",
     "output_type": "stream",
     "text": [
      "(19,)\n",
      "[-5.         -4.47368421 -3.94736842 -3.42105263 -2.89473684 -2.36842105\n",
      " -1.84210526 -1.31578947 -0.78947368 -0.26315789  0.26315789  0.78947368\n",
      "  1.31578947  1.84210526  2.36842105  2.89473684  3.42105263  3.94736842\n",
      "  4.47368421  5.        ]\n"
     ]
    }
   ],
   "source": [
    "# Болле гибкий вариант вычисления диаграммы\n",
    "np.random.seed(42)\n",
    "x = np.random.randn(200)\n",
    "bins = np.linspace(-5, 5, 20)\n",
    "counts, edges = np.histogram(x, bins)\n",
    "print(np.shape(counts))\n",
    "print(edges)"
   ]
  },
  {
   "cell_type": "code",
   "execution_count": 276,
   "metadata": {},
   "outputs": [
    {
     "name": "stdout",
     "output_type": "stream",
     "text": [
      "(1000,)\n"
     ]
    },
    {
     "data": {
      "text/plain": [
       "(array([  0.,   0.,   0.,   0.,   0.,   0.,   0.,   0.,   0.,   0.,   0.,\n",
       "          0.,   0.,   0.,   0.,   0.,   0.,   0.,   0.,   0.,   0.,   0.,\n",
       "          0.,   0.,   0.,   0.,   0.,   0.,   0.,   0.,   0.,   0.,   0.,\n",
       "          0.,   0.,   0.,   0.,   0.,   0.,   0.,   0.,   1.,   2.,   4.,\n",
       "         19.,  43.,  73., 118., 159., 156., 152., 120.,  64.,  51.,  25.,\n",
       "          9.,   2.,   1.,   0.,   1.,   0.,   0.,   0.,   0.,   0.,   0.,\n",
       "          0.,   0.,   0.,   0.,   0.,   0.,   0.,   0.,   0.,   0.,   0.,\n",
       "          0.,   0.,   0.,   0.,   0.,   0.,   0.,   0.,   0.,   0.,   0.,\n",
       "          0.,   0.,   0.,   0.,   0.,   0.,   0.,   0.,   0.,   0.,   0.]),\n",
       " array([-20.        , -19.5959596 , -19.19191919, -18.78787879,\n",
       "        -18.38383838, -17.97979798, -17.57575758, -17.17171717,\n",
       "        -16.76767677, -16.36363636, -15.95959596, -15.55555556,\n",
       "        -15.15151515, -14.74747475, -14.34343434, -13.93939394,\n",
       "        -13.53535354, -13.13131313, -12.72727273, -12.32323232,\n",
       "        -11.91919192, -11.51515152, -11.11111111, -10.70707071,\n",
       "        -10.3030303 ,  -9.8989899 ,  -9.49494949,  -9.09090909,\n",
       "         -8.68686869,  -8.28282828,  -7.87878788,  -7.47474747,\n",
       "         -7.07070707,  -6.66666667,  -6.26262626,  -5.85858586,\n",
       "         -5.45454545,  -5.05050505,  -4.64646465,  -4.24242424,\n",
       "         -3.83838384,  -3.43434343,  -3.03030303,  -2.62626263,\n",
       "         -2.22222222,  -1.81818182,  -1.41414141,  -1.01010101,\n",
       "         -0.60606061,  -0.2020202 ,   0.2020202 ,   0.60606061,\n",
       "          1.01010101,   1.41414141,   1.81818182,   2.22222222,\n",
       "          2.62626263,   3.03030303,   3.43434343,   3.83838384,\n",
       "          4.24242424,   4.64646465,   5.05050505,   5.45454545,\n",
       "          5.85858586,   6.26262626,   6.66666667,   7.07070707,\n",
       "          7.47474747,   7.87878788,   8.28282828,   8.68686869,\n",
       "          9.09090909,   9.49494949,   9.8989899 ,  10.3030303 ,\n",
       "         10.70707071,  11.11111111,  11.51515152,  11.91919192,\n",
       "         12.32323232,  12.72727273,  13.13131313,  13.53535354,\n",
       "         13.93939394,  14.34343434,  14.74747475,  15.15151515,\n",
       "         15.55555556,  15.95959596,  16.36363636,  16.76767677,\n",
       "         17.17171717,  17.57575758,  17.97979798,  18.38383838,\n",
       "         18.78787879,  19.19191919,  19.5959596 ,  20.        ]),\n",
       " <a list of 1 Patch objects>)"
      ]
     },
     "execution_count": 276,
     "metadata": {},
     "output_type": "execute_result"
    },
    {
     "data": {
      "image/png": "[encoded data removed]",
      "text/plain": [
       "<Figure size 432x288 with 1 Axes>"
      ]
     },
     "metadata": {},
     "output_type": "display_data"
    }
   ],
   "source": [
    "np.random.seed(42)\n",
    "arr = np.random.randn(1000)\n",
    "print(np.shape(arr))\n",
    "bins = np.linspace(-20, 20, 100)\n",
    "plt.hist(arr, bins, histtype = \"step\")"
   ]
  },
  {
   "cell_type": "markdown",
   "metadata": {},
   "source": [
    "## Сортировки"
   ]
  },
  {
   "cell_type": "code",
   "execution_count": 277,
   "metadata": {},
   "outputs": [],
   "source": [
    "import numpy as np"
   ]
  },
  {
   "cell_type": "code",
   "execution_count": 278,
   "metadata": {},
   "outputs": [
    {
     "name": "stdout",
     "output_type": "stream",
     "text": [
      "Массив до сортировки: [6 0 7 2 5]\n",
      "Отсортированный массив: [0 2 5 6 7]\n",
      "Индексы отсортировнного массива: [1 3 4 0 2]\n"
     ]
    }
   ],
   "source": [
    "arr = np.random.randint(10, size=5)\n",
    "print('Массив до сортировки:', arr)\n",
    "i = np.argsort(arr)\n",
    "arr.sort() # Быстрая сортировка\n",
    "print('Отсортированный массив:', arr)\n",
    "print('Индексы отсортировнного массива:', i)"
   ]
  },
  {
   "cell_type": "code",
   "execution_count": 279,
   "metadata": {},
   "outputs": [
    {
     "name": "stdout",
     "output_type": "stream",
     "text": [
      "[[8 5 8 6 8]\n",
      " [1 7 7 1 3]\n",
      " [6 3 3 5 9]\n",
      " [5 9 2 8 9]] \n",
      "\n",
      "Отсортированный по строкам массив:\n",
      " [[5 6 8 8 8]\n",
      " [1 1 3 7 7]\n",
      " [3 3 5 6 9]\n",
      " [2 5 8 9 9]] \n",
      "\n",
      "Отсортированный по столбцам массив:\n",
      " [[1 3 2 1 3]\n",
      " [5 5 3 5 8]\n",
      " [6 7 7 6 9]\n",
      " [8 9 8 8 9]]\n"
     ]
    }
   ],
   "source": [
    "arr2 = np.random.randint(10, size=(4,5))\n",
    "print(arr2, \"\\n\")\n",
    "arr2_row = np.sort(arr2, axis = 1)\n",
    "arr2_col = np.sort(arr2, axis = 0)\n",
    "print(\"Отсортированный по строкам массив:\\n\", arr2_row, \"\\n\")\n",
    "print(\"Отсортированный по столбцам массив:\\n\", arr2_col)"
   ]
  },
  {
   "cell_type": "code",
   "execution_count": 280,
   "metadata": {},
   "outputs": [
    {
     "name": "stdout",
     "output_type": "stream",
     "text": [
      "[13 74 81 11 86 11 12 24 44 18 54 99 44  7 92 52 54 31 50 43]\n"
     ]
    },
    {
     "data": {
      "text/plain": [
       "array([11,  7, 11, 12, 13, 18, 86, 24, 44, 74, 54, 99, 44, 81, 92, 52, 54,\n",
       "       31, 50, 43])"
      ]
     },
     "execution_count": 280,
     "metadata": {},
     "output_type": "execute_result"
    }
   ],
   "source": [
    "k_smallest = np.random.randint(100, size = 20)\n",
    "print(k_smallest)\n",
    "np.partition(k_smallest, 4) # значит выбрать 4 наименьших значения из массива"
   ]
  },
  {
   "cell_type": "code",
   "execution_count": 281,
   "metadata": {
    "scrolled": true
   },
   "outputs": [
    {
     "name": "stdout",
     "output_type": "stream",
     "text": [
      "[[81 69 17 82 21]\n",
      " [36 95 55 58  2]\n",
      " [27 73 34 60 92]\n",
      " [53 62 78 96  6]\n",
      " [75 48 93 84 30]] \n",
      "\n",
      "Здесь в каждой строке первые n членов являются наименьшими:\n",
      "\n",
      " [[17 21 69 82 81]\n",
      " [ 2 36 55 58 95]\n",
      " [27 34 60 73 92]\n",
      " [ 6 53 62 96 78]\n",
      " [30 48 75 84 93]] \n",
      "\n",
      "Здесь же я отделил их от масива сформировав массив n наименьших элементов каждой строки\n",
      " [17 21  2 36 27 34  6 53 30 48]\n"
     ]
    }
   ],
   "source": [
    "k_smallest2 = np.random.randint(100, size = (5, 5))\n",
    "n = 2\n",
    "print(k_smallest2, '\\n')\n",
    "new_arr = np.partition(k_smallest2, n, axis = 1) # значит выбрать 2 наименьших значений каждой строки\n",
    "print('Здесь в каждой строке первые n членов являются наименьшими:\\n\\n', new_arr, '\\n')\n",
    "new_arr = new_arr[:,:n]\n",
    "new_arr = np.reshape(new_arr, np.prod(np.shape(new_arr)))\n",
    "print('Здесь же я отделил их от масива сформировав массив n наименьших элементов каждой строки\\n', new_arr)"
   ]
  },
  {
   "cell_type": "markdown",
   "metadata": {},
   "source": [
    "# К-близжайших соседей"
   ]
  },
  {
   "cell_type": "code",
   "execution_count": 282,
   "metadata": {},
   "outputs": [],
   "source": [
    "import matplotlib.pyplot as plt \n",
    "import numpy as np\n",
    "import seaborn; seaborn.set()"
   ]
  },
  {
   "cell_type": "code",
   "execution_count": 310,
   "metadata": {
    "scrolled": false
   },
   "outputs": [
    {
     "name": "stdout",
     "output_type": "stream",
     "text": [
      "[[0.47289197 0.5353581 ]\n",
      " [0.17844597 0.31227179]\n",
      " [0.23024617 0.20618616]\n",
      " [0.63796079 0.25688385]\n",
      " [0.63201549 0.05845461]]\n"
     ]
    },
    {
     "data": {
      "text/plain": [
       "<matplotlib.collections.PathCollection at 0x25734adabe0>"
      ]
     },
     "execution_count": 310,
     "metadata": {},
     "output_type": "execute_result"
    },
    {
     "data": {
      "image/png": "[encoded data removed]",
      "text/plain": [
       "<Figure size 432x288 with 1 Axes>"
      ]
     },
     "metadata": {},
     "output_type": "display_data"
    }
   ],
   "source": [
    "K = 1\n",
    "X = np.random.rand(5, 2)\n",
    "print(X)\n",
    "\n",
    "plt.scatter(X[:,0],X[:,1], s=100)"
   ]
  },
  {
   "cell_type": "code",
   "execution_count": 311,
   "metadata": {},
   "outputs": [
    {
     "name": "stdout",
     "output_type": "stream",
     "text": [
      "[[0.         0.13646595 0.16723115 0.10479563 0.25275723]\n",
      " [0.13646595 0.         0.01393742 0.2142217  0.27014847]\n",
      " [0.16723115 0.01393742 0.         0.16880147 0.1832432 ]\n",
      " [0.10479563 0.2142217  0.16880147 0.         0.03940951]\n",
      " [0.25275723 0.27014847 0.1832432  0.03940951 0.        ]]\n"
     ]
    }
   ],
   "source": [
    "# hard way: dist_sq = np.sum((X[:,np.newaxis,:] - X[np.newaxis,:,:]) ** 2, axis = 1)\n",
    "diff = X[:,np.newaxis,:] - X[np.newaxis,:,:]\n",
    "sq_diff = diff ** 2\n",
    "dist_sq = sq_diff.sum(-1) # пометка! \n",
    "print(dist_sq)"
   ]
  },
  {
   "cell_type": "markdown",
   "metadata": {},
   "source": [
    "\n",
    "> <b style=\"color: Crimson\">ПОМЕТКА</b>\n",
    "> 1. Если ось отрицательна np.sum будет брать от **последней до прервой оси**\n",
    "> 1. **sq_diff.shape** вернет (10, 10, 2) - тут будт оси 0, 1, 2. \n",
    "> 1. Это значит, что в это случае '-1' - он возмет последнюю, то есть *2*\n",
    ">"
   ]
  },
  {
   "cell_type": "code",
   "execution_count": 312,
   "metadata": {},
   "outputs": [
    {
     "data": {
      "text/plain": [
       "array([0., 0., 0., 0., 0.])"
      ]
     },
     "execution_count": 312,
     "metadata": {},
     "output_type": "execute_result"
    }
   ],
   "source": [
    "dist_sq.diagonal() # (вернет диоганальные элементы)\n",
    "# Это значит что диоганальные элементы равны нулю (то есть все идет по плану)"
   ]
  },
  {
   "cell_type": "code",
   "execution_count": 313,
   "metadata": {
    "scrolled": true
   },
   "outputs": [
    {
     "name": "stdout",
     "output_type": "stream",
     "text": [
      "[[0 3 1 2 4]\n",
      " [1 2 0 3 4]\n",
      " [2 1 0 3 4]\n",
      " [3 4 0 2 1]\n",
      " [4 3 2 1 0]]\n"
     ]
    }
   ],
   "source": [
    "nearest= np.argpartition(dist_sq, 2, axis = 1)\n",
    "print(nearest)"
   ]
  },
  {
   "cell_type": "code",
   "execution_count": 314,
   "metadata": {},
   "outputs": [
    {
     "data": {
      "image/png": "[encoded data removed]",
      "text/plain": [
       "<Figure size 432x288 with 1 Axes>"
      ]
     },
     "metadata": {},
     "output_type": "display_data"
    }
   ],
   "source": [
    "plt.scatter(X[:, 0],X[:, 1], s = 100)\n",
    "for i in range(X.shape[0]):\n",
    "    for j in nearest[i, :K+1]:\n",
    "        plt.plot(*zip(X[j], X[i]), color='red')"
   ]
  },
  {
   "cell_type": "markdown",
   "metadata": {},
   "source": [
    "## Структурированные данные"
   ]
  },
  {
   "cell_type": "code",
   "execution_count": 315,
   "metadata": {},
   "outputs": [
    {
     "name": "stdout",
     "output_type": "stream",
     "text": [
      "[('Nikita', 25, 55. ) ('Roma', 31, 85.5) ('Vlad', 37, 68. )\n",
      " ('Egor', 19, 61.5) ('Nikita', 12, 14. )]\n",
      "\n",
      "Список имен людей старше 30 лет:\n",
      "['Roma' 'Vlad']\n",
      "[('Nikita', 25, 55. ) ('Roma', 31, 85.5) ('Vlad', 37, 68. )\n",
      " ('Egor', 19, 61.5) ('Nikita', 12, 14. )]\n"
     ]
    }
   ],
   "source": [
    "name = ['Nikita', 'Roma', 'Vlad', 'Egor', 'Nikita']\n",
    "age = np.array([25, 31, 37, 19, 12], dtype=np.int64)\n",
    "weight = [55., 85.5, 68., 61.5, 14.]\n",
    "\n",
    "data = np.zeros(5, dtype={'names':('name', 'age', 'weight'),\n",
    "                      'formats':('U10', 'i4', 'f8')})\n",
    "data['name'] = name\n",
    "data['age'] = age\n",
    "data['weight'] = weight\n",
    "print(data)\n",
    "print(\"\\nСписок имен людей старше 30 лет:\")\n",
    "print(data[data['age'] > 30]['name'])\n",
    "data[data['age'] > 30]['weight'] = 0.\n",
    "print(data)"
   ]
  },
  {
   "cell_type": "markdown",
   "metadata": {},
   "source": [
    ">  ## <b style=\"color: red\">НО</b>\n",
    "> *Можно использовать заготовленный массив типов*\n",
    "> ### Запись:\n",
    "> np.dtype([('name', 'U20'),('age', 'i4'),('weight', 'f8')]) \n",
    "> ### Вернет: \n",
    "> [( '**name**', '**<U20**' ), ( '**age**', '**<i4**' ), ( '**weight**', '**<f8**' )]"
   ]
  },
  {
   "cell_type": "code",
   "execution_count": 316,
   "metadata": {},
   "outputs": [
    {
     "name": "stdout",
     "output_type": "stream",
     "text": [
      "[('name', '<U20'), ('age', '<i4'), ('weight', '<f8')] \n",
      "\n",
      "[('Nikita', 25, 55. ) ('Roma', 31, 85.5) ('Vlad', 37, 68. )\n",
      " ('Egor', 19, 61.5) ('Nikita', 12, 14. )]\n"
     ]
    }
   ],
   "source": [
    "types = np.dtype([('name', 'U20'),('age', 'i4'),('weight', 'f8')])\n",
    "print(types, '\\n')\n",
    "new_arr = np.zeros(5,dtype = types)\n",
    "new_arr['name'] = name\n",
    "new_arr['age'] = age\n",
    "new_arr['weight'] = weight\n",
    "print(new_arr)"
   ]
  },
  {
   "cell_type": "code",
   "execution_count": 317,
   "metadata": {},
   "outputs": [
    {
     "data": {
      "text/plain": [
       "dtype([('f0', 'S10'), ('f1', '<i8'), ('f2', '<f8')])"
      ]
     },
     "execution_count": 317,
     "metadata": {},
     "output_type": "execute_result"
    }
   ],
   "source": [
    "np.dtype('S10, i8, f8') # можно и без названий"
   ]
  },
  {
   "cell_type": "code",
   "execution_count": 318,
   "metadata": {},
   "outputs": [
    {
     "name": "stdout",
     "output_type": "stream",
     "text": [
      "[(0, [[0., 0., 0.], [0., 0., 0.], [0., 0., 0.]])]\n",
      "[(0, [[1., 1., 1.], [1., 1., 1.], [1., 1., 1.]])]\n"
     ]
    }
   ],
   "source": [
    "new_type = np.dtype([('id', 'i8'), ('mat', 'f8', (3,3))])\n",
    "X = np.zeros(1, dtype = new_type)\n",
    "print(X)\n",
    "X['mat'][0] = np.ones((3,3), dtype=np.float64)\n",
    "print(X)"
   ]
  },
  {
   "cell_type": "markdown",
   "metadata": {},
   "source": [
    "> ### Однако есть еще **структурированные массивы**\n",
    "> Которые предоставляют доступ к элементам с помощью \".\", но работает заметно медленее"
   ]
  },
  {
   "cell_type": "code",
   "execution_count": 319,
   "metadata": {},
   "outputs": [
    {
     "name": "stdout",
     "output_type": "stream",
     "text": [
      "[25 31 37 19 12]\n"
     ]
    }
   ],
   "source": [
    "data_rec = data.view(np.recarray)\n",
    "print(data_rec.age)"
   ]
  },
  {
   "cell_type": "code",
   "execution_count": null,
   "metadata": {},
   "outputs": [],
   "source": []
  }
 ],
 "metadata": {
  "kernelspec": {
   "display_name": "Python 3",
   "language": "python",
   "name": "python3"
  },
  "language_info": {
   "codemirror_mode": {
    "name": "ipython",
    "version": 3
   },
   "file_extension": ".py",
   "mimetype": "text/x-python",
   "name": "python",
   "nbconvert_exporter": "python",
   "pygments_lexer": "ipython3",
   "version": "3.7.3"
  }
 },
 "nbformat": 4,
 "nbformat_minor": 2
}
